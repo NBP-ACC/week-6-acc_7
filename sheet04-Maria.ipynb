{
 "cells": [
  {
   "cell_type": "markdown",
   "metadata": {},
   "source": [
    "Osnabrück University - A&C: Computational Cognition (Summer Term 2019)"
   ]
  },
  {
   "cell_type": "markdown",
   "metadata": {},
   "source": [
    "# Exercise Sheet 04: Analysis of behavioural data (part 2)"
   ]
  },
  {
   "cell_type": "markdown",
   "metadata": {},
   "source": [
    "## Introduction\n",
    "\n",
    "This week's sheet should be solved and handed in at 14:00 at **Tuesday, May 14, 2019**. If you need help (and Google and other resources were not enough), feel free to contact your tutors. Please push your results to your Github group folder.\n",
    "\n",
    "In this exercise sheet we will have a closer look on the data of Seahaven using analysing techniques like ANOVA, linear regression models and t-tests. For the correct results we will provide you with the finalized data that you only have to read in. Note that especially the data for assignment 2 and 3 underwent some further preprocesing than what we did in the previous exercise."
   ]
  },
  {
   "cell_type": "markdown",
   "metadata": {},
   "source": [
    "## Assignment 0: Peer review for sheet 03 [3 pts]"
   ]
  },
  {
   "cell_type": "markdown",
   "metadata": {},
   "source": [
    "Open an issue in the repository of the groups you have to check. The title of the issue should be your group name (e.g. \"Group1). Comment on what was good and what was bad, the aesthetics and ease of reading the plots, what you would have done differently and how many points you would give them for their solutions.\n",
    "\n",
    "| * |Group 1|Group 2|Group 3|Group 4|Group 5|Group 6|Group 7|Group 8|Group 9|Group 10|Group 11|\n",
    "| ------- | ----- | ----- | ----- | ----- | ----- | ----- | ----- | ----- | ----- | ------ | ------ |\n",
    "| check solutions of group: | 6, 2 | 10, 7  | 1, 6  | 8, 9 | 7, 1 | 9, 8 | 3, 10  | 5, 11  | 4, 3  | 11, 5 | 2, 4  |\n",
    "\n",
    "Please also evaluate nice coding style with up to two points."
   ]
  },
  {
   "cell_type": "code",
   "execution_count": 3,
   "metadata": {},
   "outputs": [],
   "source": [
    "import os\n",
    "import numpy as np\n",
    "import pandas as pd\n",
    "import matplotlib.pyplot as plt\n",
    "import ptitprince as pt\n",
    "import seaborn as sns\n",
    "sns.set()\n",
    "from PIL import Image\n",
    "from scipy import stats\n",
    "from statsmodels.stats.anova import AnovaRM\n",
    "from statsmodels.stats.api import anova_lm\n",
    "from statsmodels.formula.api import ols"
   ]
  },
  {
   "cell_type": "markdown",
   "metadata": {},
   "source": [
    "## Assignment 1: Linear Regression Model Based on Performance and Reaction Time [2 pts]"
   ]
  },
  {
   "cell_type": "markdown",
   "metadata": {},
   "source": [
    "Although the linear regression in the prior exercise sheet (assignment 2.a) does not suggest a relationship between RT and performance (accuracy) for the relative task, we still want to check how much of the performance is explained by the RT. To do so we fit a linear regression model by using the ```ols``` method in the ```statsmodels``` library for both of the time conditions (3sec and Infinite).\n",
    "\n",
    "- Read ```AllData.csv``` into the dataframe ```AllData``` and take only the data of the relative task. \n",
    "- Split the data of the relative task: Create ```SecData``` with the data of the 3sec-condition and ```InfData``` with the data of the Infinite-condition.\n",
    "- For each dataset (SecData, InfData) use the ```statsmodels```’ ```ols``` function to initialise a simple linear regression model. <br> The ```ols``` function takes the following: **ols(\"y ~ X\", df)**, where X is the predictor variable (\"ReactionTime\"), y is the output variable (\"Performance\") and df is the dataframe of the used data.\n",
    "- Have a look on the R-squared values and interpret them.\n",
    "\n",
    "Take a look at the [ols documentation](https://www.statsmodels.org/stable/index.html) and the [patsy documentation](https://patsy.readthedocs.io/en/v0.1.0/formulas.html) to get a feeling how to use the function."
   ]
  },
  {
   "cell_type": "code",
   "execution_count": 5,
   "metadata": {},
   "outputs": [
    {
     "name": "stdout",
     "output_type": "stream",
     "text": [
      "3 Seconds condition:                              OLS Regression Results                            \n",
      "==============================================================================\n",
      "Dep. Variable:            Performance   R-squared:                       0.042\n",
      "Model:                            OLS   Adj. R-squared:                  0.032\n",
      "Method:                 Least Squares   F-statistic:                     4.195\n",
      "Date:                Mon, 13 May 2019   Prob (F-statistic):             0.0433\n",
      "Time:                        17:42:22   Log-Likelihood:                 78.822\n",
      "No. Observations:                  97   AIC:                            -153.6\n",
      "Df Residuals:                      95   BIC:                            -148.5\n",
      "Df Model:                           1                                         \n",
      "Covariance Type:            nonrobust                                         \n",
      "================================================================================\n",
      "                   coef    std err          t      P>|t|      [0.025      0.975]\n",
      "--------------------------------------------------------------------------------\n",
      "Intercept        0.4099      0.065      6.330      0.000       0.281       0.538\n",
      "ReactionTime     0.0750      0.037      2.048      0.043       0.002       0.148\n",
      "==============================================================================\n",
      "Omnibus:                        5.909   Durbin-Watson:                   2.092\n",
      "Prob(Omnibus):                  0.052   Jarque-Bera (JB):                5.938\n",
      "Skew:                           0.604   Prob(JB):                       0.0513\n",
      "Kurtosis:                       2.900   Cond. No.                         13.6\n",
      "==============================================================================\n",
      "\n",
      "Warnings:\n",
      "[1] Standard Errors assume that the covariance matrix of the errors is correctly specified.\n",
      "Infinity Time condition:                              OLS Regression Results                            \n",
      "==============================================================================\n",
      "Dep. Variable:            Performance   R-squared:                       0.118\n",
      "Model:                            OLS   Adj. R-squared:                  0.109\n",
      "Method:                 Least Squares   F-statistic:                     12.72\n",
      "Date:                Mon, 13 May 2019   Prob (F-statistic):           0.000568\n",
      "Time:                        17:42:22   Log-Likelihood:                 86.422\n",
      "No. Observations:                  97   AIC:                            -168.8\n",
      "Df Residuals:                      95   BIC:                            -163.7\n",
      "Df Model:                           1                                         \n",
      "Covariance Type:            nonrobust                                         \n",
      "================================================================================\n",
      "                   coef    std err          t      P>|t|      [0.025      0.975]\n",
      "--------------------------------------------------------------------------------\n",
      "Intercept        0.4826      0.025     19.197      0.000       0.433       0.533\n",
      "ReactionTime     0.0228      0.006      3.567      0.001       0.010       0.035\n",
      "==============================================================================\n",
      "Omnibus:                        3.385   Durbin-Watson:                   2.165\n",
      "Prob(Omnibus):                  0.184   Jarque-Bera (JB):                2.764\n",
      "Skew:                           0.390   Prob(JB):                        0.251\n",
      "Kurtosis:                       3.275   Cond. No.                         10.2\n",
      "==============================================================================\n",
      "\n",
      "Warnings:\n",
      "[1] Standard Errors assume that the covariance matrix of the errors is correctly specified.\n"
     ]
    }
   ],
   "source": [
    "##Save AllData as dataframe and only keep rows with task = relative\n",
    "AllData = pd.read_csv('Data/AllData.csv')\n",
    "AllData = AllData[AllData.Task == 'Relative']\n",
    "\n",
    "#Split the data into the 2 conditions 3sec and infinite\n",
    "SecData = AllData[AllData.Time == '3sec']\n",
    "InfData = AllData[AllData.Time == 'Infinite']\n",
    "\n",
    "#Linear regression\n",
    "result_SecData_ols = ols('Performance~ReactionTime ', data=SecData).fit().summary()\n",
    "result_InfData_ols = ols('Performance~ReactionTime ', data=InfData).fit().summary()\n",
    "\n",
    "#print results\n",
    "print('3 Seconds condition: ', result_SecData_ols)\n",
    "print('Infinity Time condition: ', result_InfData_ols)"
   ]
  },
  {
   "cell_type": "markdown",
   "metadata": {},
   "source": [
    "## R-squared Interpretation\n",
    "We can see that 4% of Perfomance variation could be explained by Reaction Time variable in the 3sec condition. However, for the Infinite time condition ~12% of the differences in Perfomance could be explained by ReactionTime variable. "
   ]
  },
  {
   "cell_type": "markdown",
   "metadata": {},
   "source": [
    "## Assignment 2: Testing Task Performance via ANOVA [5 pts]"
   ]
  },
  {
   "cell_type": "markdown",
   "metadata": {},
   "source": [
    "For this assignment we will have a look on the whole data without caring about the different measurements."
   ]
  },
  {
   "cell_type": "markdown",
   "metadata": {},
   "source": [
    "### a) Task Performance [2 pts]"
   ]
  },
  {
   "cell_type": "markdown",
   "metadata": {},
   "source": [
    "Refering to our plots of the prior exercise sheet (assignment 2.b), it is a good idea to have a closer look on the task performance (accuracy) to check if there are some **significant effects, i.e. p < 0.05**. To do so we will first of all visualize the data with a raincloud-plot using ```ptitprince.RainCloud``` as a density estimate and then calculate the ANOVAs. Make sure to run ```pip install ptitprince``` in your activated acc environment beforehand.\n",
    "\n",
    "- Read ```MapPerformances.csv``` into the dataframe ```AllPerformances```.\n",
    "- Make a RainCloud-plot of the tasks (x-axis) and performance (y-axis) for both time conditions (3sec / Infinite). The y-axis should start at 0.25 and end at 0.75.\n",
    "- Have a look at ```help(pt.RainCloud)``` to get an overview of the different parameters that you can modify to create a nice raincloud-plot."
   ]
  },
  {
   "cell_type": "code",
   "execution_count": 51,
   "metadata": {},
   "outputs": [
    {
     "data": {
      "image/png": "[encoded data removed]",
      "text/plain": [
       "<Figure size 864x792 with 1 Axes>"
      ]
     },
     "metadata": {},
     "output_type": "display_data"
    }
   ],
   "source": [
    "#read data into dataframe\n",
    "AllPerformances = pd.read_csv('Data/MapPerformances.csv')\n",
    "\n",
    "#create raincloud plot\n",
    "sns.set(context = \"talk\", style=\"whitegrid\", palette=\"Accent\", font_scale=1.5)\n",
    "plt_AllPerformances = pt.RainCloud(x=\"Task\",y=\"Performance\",data=AllPerformances,width_viol=0.5)\n",
    "#sets y-axis to 0.25-0.75, cuts off parts of the cloud, but is mandatory\n",
    "plt.ylim(0.25,0.75) \n",
    "plt.subplots_adjust(top = 0.8,right=1.1)"
   ]
  },
  {
   "cell_type": "markdown",
   "metadata": {},
   "source": [
    "Using the data of ```AllPerformances``` we now want to calculate a **two-way ANOVA**. A two-way ANOVA is a statistical test used to determine the effect of two nominal predictor variables (= independent variables) on a continuous outcome variable (= dependent variable).\n",
    "\n",
    "H$_{01}$ = The performance is the same for the different tasks. <br>\n",
    "H$_{02}$ = The performance is the same for the different time conditions. <br>\n",
    "H$_{03}$ = An interaction effect does not exist.\n",
    "\n",
    "- Given the null hypotheses above, what is the outcome variable and what are the predictor variables that you have to use for the two-way ANOVA?\n",
    "- Use ```statsmodels```’ ```ols``` function to create an ordinary least squares model as a precursor to the ANOVA. <br> The ```ols``` function takes the following: **ols(\"y ~ C(X1) * C(X2)\", df)**, where X1 and X2 are the predictor variables, y is the output variable and df is the dataframe of the used data.\n",
    "- With the result of the ols calculate a **type 2** two-way ANOVA using ```statsmodels```’ ```anova_lm```.\n",
    "- Based on the ANOVA table explain which of the null hypotheses can be rejected. What does this outcome tell you?\n",
    "\n",
    "Take a look at the [ols documentation](https://www.statsmodels.org/stable/index.html), the [patsy documentation](https://patsy.readthedocs.io/en/v0.1.0/formulas.html) and the [anova_lm documentation](http://www.statsmodels.org/dev/anova.html) to get a feeling how to use these functions."
   ]
  },
  {
   "cell_type": "code",
   "execution_count": 13,
   "metadata": {},
   "outputs": [
    {
     "name": "stdout",
     "output_type": "stream",
     "text": [
      "Linear regression results:                             OLS Regression Results                            \n",
      "==============================================================================\n",
      "Dep. Variable:            Performance   R-squared:                       0.062\n",
      "Model:                            OLS   Adj. R-squared:                  0.049\n",
      "Method:                 Least Squares   F-statistic:                     4.969\n",
      "Date:                Mon, 13 May 2019   Prob (F-statistic):           0.000203\n",
      "Time:                        17:52:24   Log-Likelihood:                 389.12\n",
      "No. Observations:                 384   AIC:                            -766.2\n",
      "Df Residuals:                     378   BIC:                            -742.5\n",
      "Df Model:                           5                                         \n",
      "Covariance Type:            nonrobust                                         \n",
      "===========================================================================================================\n",
      "                                              coef    std err          t      P>|t|      [0.025      0.975]\n",
      "-----------------------------------------------------------------------------------------------------------\n",
      "Intercept                                   0.4918      0.011     44.437      0.000       0.470       0.514\n",
      "C(Task)[T.Pointing]                        -0.0043      0.016     -0.277      0.782      -0.035       0.026\n",
      "C(Task)[T.Relative]                        -0.0013      0.016     -0.083      0.934      -0.032       0.029\n",
      "C(Time)[T.Infinite]                         0.0152      0.016      0.971      0.332      -0.016       0.046\n",
      "C(Task)[T.Pointing]:C(Time)[T.Infinite]     0.0343      0.022      1.549      0.122      -0.009       0.078\n",
      "C(Task)[T.Relative]:C(Time)[T.Infinite]     0.0373      0.022      1.686      0.093      -0.006       0.081\n",
      "==============================================================================\n",
      "Omnibus:                        0.562   Durbin-Watson:                   2.056\n",
      "Prob(Omnibus):                  0.755   Jarque-Bera (JB):                0.417\n",
      "Skew:                          -0.072   Prob(JB):                        0.812\n",
      "Kurtosis:                       3.073   Cond. No.                         9.77\n",
      "==============================================================================\n",
      "\n",
      "Warnings:\n",
      "[1] Standard Errors assume that the covariance matrix of the errors is correctly specified.\n",
      "ANOVA type 2 results: \n",
      "                   sum_sq     df          F    PR(>F)\n",
      "C(Task)          0.020741    2.0   1.323139  0.267528\n",
      "C(Time)          0.146484    1.0  18.689569  0.000020\n",
      "C(Task):C(Time)  0.027500    2.0   1.754358  0.174424\n",
      "Residual         2.962674  378.0        NaN       NaN\n"
     ]
    }
   ],
   "source": [
    "#linear regression model\n",
    "result_ols = ols('Performance ~ C(Task)*C(Time)', data=AllPerformances).fit()\n",
    "print('Linear regression results:', result_ols.summary())\n",
    "\n",
    "#ANOVA typ 2\n",
    "result_anova = anova_lm(result_ols,typ=2)\n",
    "print('ANOVA type 2 results: ')\n",
    "print( result_anova)"
   ]
  },
  {
   "cell_type": "markdown",
   "metadata": {},
   "source": [
    "## Interpretation:\n",
    " Based on ANOVA results, we can conclude that Time variable significantly (p<0.05) influence Perfomance. Thus, we reject H02. But we cannot reject H01 and H03. "
   ]
  },
  {
   "cell_type": "markdown",
   "metadata": {},
   "source": [
    "### b) Task Performance: 3sec Condition vs. Infinite Condition [3 pts]"
   ]
  },
  {
   "cell_type": "markdown",
   "metadata": {},
   "source": [
    "Let's take a closer look onto the single time conditions by calculating a **one-way ANOVA** for each time condition (3sec and Infinite). A one-way ANOVA is a statistical test used to determine the effect of one nominal predictor variable (= independent variable) on a continuous outcome variable (= dependent variable). \n",
    "\n",
    "H$_{01}$ = The performance is the same for the different tasks. <br>\n",
    "\n",
    "- Use the data of ```AllPerformances``` and split it: Create ```SecPerformances``` with the data of the 3sec-condition and ```InfPerformances``` with the data of the Infinite-condition.\n",
    "- Given the null hypothesis above, what is the outcome variable and what is the predictor variable that you have to use for the one-way ANOVAs?\n",
    "\n",
    "Do for each dataset (SecPerformances, InfPerformances):\n",
    "\n",
    "- Use ```statsmodels```’ ```ols``` function to create an ordinary least squares model as a precursor to the ANOVA. The ```ols``` function takes the formula <br> The ```ols``` function takes the following: **ols(\"y ~ C(X)\", df)**, where X is the predictor variable, y is the output variable and df is the dataframe of the used data.\n",
    "- With the result of the ols calculate a **type 1** one-way ANOVA using ```statsmodels```’ ```anova_lm```.\n",
    "- Based on the ANOVA table explain if the null hypothesis can be rejected. What does this outcome tell you?\n",
    "\n",
    "Take a look at the [ols documentation](https://www.statsmodels.org/stable/index.html) and the [patsy documentation](https://patsy.readthedocs.io/en/v0.1.0/formulas.html) to get a feeling how to use this function."
   ]
  },
  {
   "cell_type": "code",
   "execution_count": 22,
   "metadata": {},
   "outputs": [
    {
     "name": "stdout",
     "output_type": "stream",
     "text": [
      "3 Seconds condition: \n",
      "              df    sum_sq   mean_sq         F    PR(>F)\n",
      "C(Task)     2.0  0.000635  0.000317  0.039362  0.961411\n",
      "Residual  189.0  1.524426  0.008066       NaN       NaN\n",
      "\n",
      " Infinity Time condition: \n",
      "              df    sum_sq   mean_sq         F    PR(>F)\n",
      "C(Task)     2.0  0.047606  0.023803  3.127978  0.046082\n",
      "Residual  189.0  1.438247  0.007610       NaN       NaN\n"
     ]
    }
   ],
   "source": [
    "#Getting the data split-up\n",
    "SecPerformances = AllPerformances[AllPerformances.Time=='3sec']\n",
    "InfPerformances = AllPerformances[AllPerformances.Time=='Infinite']\n",
    "\n",
    "#linear regression models\n",
    "result_SecPerformances_ols = ols('Performance ~ C(Task)', data=SecPerformances).fit()\n",
    "result_InfPerformances_ols = ols('Performance ~ C(Task)', data=InfPerformances).fit()\n",
    "\n",
    "#ANOVA typ1 models\n",
    "result_SecPerformances_anova = anova_lm(result_SecPerformances_ols,typ=1)\n",
    "result_InfPerformances_anova = anova_lm(result_InfPerformances_ols,typ=1)\n",
    "\n",
    "#print results\n",
    "print(\"3 Seconds condition: \\n\", result_SecPerformances_anova)\n",
    "print('\\n Infinity Time condition: \\n', result_InfPerformances_anova)"
   ]
  },
  {
   "cell_type": "markdown",
   "metadata": {},
   "source": [
    "## Intepretation:\n",
    "There is significant difference between Tasks within Infinity Time condition group (p < 0.05). Thus, we should perform a follow up comparrison to see if all three Tasks significantly influence perfomance. "
   ]
  },
  {
   "cell_type": "markdown",
   "metadata": {},
   "source": [
    "If there is a significant outcome for one of the datasets (SecPerformances or InfPerformances), make a post-hoc paired t-test using this dataset.\n",
    "\n",
    "- Extract the performances for each task (Absolute, Relative, Pointing).\n",
    "- Compare the performances of the different tasks pairwise using ```scipy.stats.ttest_rel```\n",
    "- Why do we need to do further post-hoc tests and what do they tell us?"
   ]
  },
  {
   "cell_type": "code",
   "execution_count": 24,
   "metadata": {},
   "outputs": [
    {
     "name": "stdout",
     "output_type": "stream",
     "text": [
      "Absolute - Relative:\n",
      " Ttest_relResult(statistic=-2.549420177654396, pvalue=0.013236758937606112)\n",
      "\n",
      "Absolute - Pointing:\n",
      " Ttest_relResult(statistic=-1.8697272275281769, pvalue=0.06617015143684292)\n",
      "\n",
      "Relative - Pointing:\n",
      "'Ttest_relResult(statistic=0.38334190525937933, pvalue=0.702756818654483)\n"
     ]
    }
   ],
   "source": [
    "#Devide Infinite group into three groups by task\n",
    "Inf_Abs = InfPerformances[InfPerformances.Task =='Absolute']\n",
    "Inf_Rel = InfPerformances[InfPerformances.Task =='Relative']\n",
    "Inf_Poi = InfPerformances[InfPerformances.Task =='Pointing']\n",
    "\n",
    "#  pairwise comparrison\n",
    "result_Abs_Rel_Ttest = stats.ttest_rel(Inf_Abs.Performance.values,Inf_Rel.Performance.values)\n",
    "result_Abs_Poi_Ttest = stats.ttest_rel(Inf_Abs.Performance.values,Inf_Poi.Performance.values)\n",
    "result_Rel_Poi_Ttest = stats.ttest_rel(Inf_Rel.Performance.values,Inf_Poi.Performance.values)\n",
    "\n",
    "#print(type(Inf_Abs.Performance.values))\n",
    "print(\"Absolute - Relative:\\n \"+str(result_Abs_Rel_Ttest))\n",
    "print(\"\\nAbsolute - Pointing:\\n \"+str(result_Abs_Poi_Ttest))\n",
    "print(\"\\nRelative - Pointing:\\n'\"+str(result_Rel_Poi_Ttest))"
   ]
  },
  {
   "cell_type": "markdown",
   "metadata": {},
   "source": [
    "## Interpretation:  \n",
    "We can see that the only significant difference is between Absolute and Relative tasks (p < 0.05)."
   ]
  },
  {
   "cell_type": "markdown",
   "metadata": {},
   "source": [
    "## Assignment 3: Testing Task Performance via Repeated Measures ANOVA [3 pts]"
   ]
  },
  {
   "cell_type": "markdown",
   "metadata": {},
   "source": [
    "Now we want to take a closer look on the task performance (accuracy) also taking the different measurements into account to check if there are some **significant effects, i.e. p < 0.05**. For this purpose we have the averaged performances over 15 repeated measure subjects for three measurements. We will first of all visualize the averaged performances for each task for the three measurements with a catplot and then calculate a repeated measures ANOVA. \n",
    "\n",
    "- Read ```RepeatedPerformances.csv``` into the dataframe ```RepeatedPerformances```.\n",
    "- Make a catplot (kind='barplot') of the conditions (x-axis) and the performance (y-axis). The y-axis should start at 0 and end at 0.75.\n",
    "- Please note that the conditions in the dataframe correspond to the given \"conditions\" list."
   ]
  },
  {
   "cell_type": "code",
   "execution_count": 36,
   "metadata": {},
   "outputs": [
    {
     "data": {
      "text/plain": [
       "(0, 0.75)"
      ]
     },
     "execution_count": 36,
     "metadata": {},
     "output_type": "execute_result"
    },
    {
     "data": {
      "image/png": "[encoded data removed]",
      "text/plain": [
       "<Figure size 1053x360 with 1 Axes>"
      ]
     },
     "metadata": {},
     "output_type": "display_data"
    }
   ],
   "source": [
    "#get a dictionary to convert the elements of the 'Condition' column of the DataFrame\n",
    "conditions = [\"Absolute - 3sec \",\"Absolute - Infinite\",\"Relative - 3sec \",\n",
    "              \"Relative - Infinite\",\"Pointing 3sec\",\"Pointing - Infinite\"]\n",
    "\n",
    "dic_cond = {0: conditions[0],1:conditions[1],2:conditions[2],\n",
    "            3:conditions[3],4:conditions[4],5:conditions[5]}\n",
    "\n",
    "#Read in the RepeatedPerformances as a Dataframe and compute the mean, and\n",
    "RepeatedPerformances = pd.read_csv('Data/RepeatedPerformances.csv')\n",
    "RepeatedPerformances_mean = RepeatedPerformances.groupby(['Condition','Subject'],\n",
    "                                                         as_index=False)['Performance'].mean()\n",
    "\n",
    "#convert the elements of the column 'Condition' using the dictionary\n",
    "RepeatedPerformances_mean_changed_cond = RepeatedPerformances_mean.replace({'Condition': dic_cond})\n",
    "\n",
    "#plot, accordingly to above given parameters, i.e. y = [0,0.75]\n",
    "sns.set(context = \"talk\", style=\"whitegrid\", palette=\"Accent\", font_scale=1)\n",
    "cat_plt = sns.catplot(x = 'Condition',y = 'Performance',\n",
    "                      data=RepeatedPerformances_mean_changed_cond,kind=\"box\",aspect=11.7/4)\n",
    "axes = cat_plt.axes\n",
    "plt.subplots_adjust(top=2.5, bottom=0.8, left=1, right=1.8)\n",
    "axes[0,0].set_ylim(0,0.75)"
   ]
  },
  {
   "cell_type": "code",
   "execution_count": 30,
   "metadata": {},
   "outputs": [
    {
     "name": "stdout",
     "output_type": "stream",
     "text": [
      "  Subject Measurement      Task      Time  Performance\n",
      "0       0           0  Absolute      3sec     0.444444\n",
      "1       0           0  Absolute  Infinite     0.611111\n",
      "2       0           0  Relative      3sec     0.527778\n",
      "3       0           0  Relative  Infinite     0.527778\n",
      "4       0           0  Pointing      3sec     0.361111\n"
     ]
    }
   ],
   "source": [
    "# create a usable dataframe for the following analysis\n",
    "repgroup = RepeatedPerformances.groupby(['Measurement','Subject','Condition'],\n",
    "                                        as_index=False)['Performance'].mean()\n",
    "\n",
    "RepeatedDf = pd.DataFrame(columns={'Measurement','Subject','Task','Time','Performance'})\n",
    "\n",
    "tasks = ['Absolute','Absolute','Relative','Relative','Pointing','Pointing']\n",
    "times = ['3sec','Infinite','3sec','Infinite','3sec','Infinite']\n",
    "\n",
    "for i in range(len(repgroup)):\n",
    "    RepeatedDf = RepeatedDf.append({'Subject':repgroup['Subject'][i],\n",
    "                                    'Measurement':repgroup['Measurement'][i],\n",
    "                                    'Task':tasks[repgroup['Condition'][i]],\n",
    "                                    'Time':times[repgroup['Condition'][i]],\n",
    "                                    'Performance':repgroup['Performance'][i]},\n",
    "                                                           ignore_index=True)\n",
    "        \n",
    "print(RepeatedDf.head())    "
   ]
  },
  {
   "cell_type": "markdown",
   "metadata": {},
   "source": [
    "Using the data of ```RepeatedDf``` we want to calculate a **(three-way) repeated measures ANOVA**. A (three-way) repeated measures ANOVA in general is a statistical test used to determine the effect of three nominal predictor variables (= within-subject factors) on a continuous outcome variable (= dependent variable). \n",
    "\n",
    "\n",
    "\n",
    "- What is the dependent variable and what are the within-subject factors that you have to use for the repeated measures ANOVA?\n",
    "- Formulate the null hypotheses that the repeated measures ANOVA has to test.\n",
    "- Calculate a repeated measures ANOVA using ```statsmodels```' ```AnovaRM```. \n",
    "- Based on the ANOVA table explain which of the null hypotheses can be rejected. What does this outcome tell you?\n",
    "\n",
    "Take a look at the [ANOVARM documentation](http://www.statsmodels.org/dev/generated/statsmodels.stats.anova.AnovaRM.html#statsmodels.stats.anova.AnovaRM) to get a feeling how to use this function."
   ]
  },
  {
   "cell_type": "markdown",
   "metadata": {},
   "source": [
    "### MODEL: \n",
    "Dependent variable: Performance; within-subject factors: Time, Measurement, Task\n",
    "\n",
    "### NullHypothesis:\n",
    "$H01$  The performance is the same for the different time conditions<br>\n",
    "$H02$  The performance is the same for the different measurements<br>\n",
    "$H03$  The performance is the same for the different Tasks<br>\n",
    "$H04$  An interaction effect does not exist for Time and Measurement<br>\n",
    "$H05$  An interaction effect does not exist for Time and Task<br>\n",
    "$H06$  An interaction effect does not exist for Measurement and Task<br>\n",
    "$H06$  An interaction effect does not exist for Time, Measurement and Task<br>"
   ]
  },
  {
   "cell_type": "code",
   "execution_count": 31,
   "metadata": {},
   "outputs": [
    {
     "name": "stdout",
     "output_type": "stream",
     "text": [
      "                       Anova\n",
      "===================================================\n",
      "                      Num DF  Den DF F Value Pr > F\n",
      "---------------------------------------------------\n",
      "Time                  1.0000 14.0000 19.4550 0.0006\n",
      "Measurement           2.0000 28.0000  2.5727 0.0943\n",
      "Task                  2.0000 28.0000  1.8458 0.1766\n",
      "Time:Measurement      2.0000 28.0000  0.0726 0.9301\n",
      "Time:Task             2.0000 28.0000  0.6688 0.5203\n",
      "Measurement:Task      4.0000 56.0000  0.5986 0.6652\n",
      "Time:Measurement:Task 4.0000 56.0000  0.2483 0.9095\n",
      "===================================================\n",
      "\n"
     ]
    }
   ],
   "source": [
    "subjects = RepeatedDf.Subject.unique()\n",
    "\n",
    "print(AnovaRM(RepeatedDf,depvar='Performance',\n",
    "              subject='Subject',\n",
    "              within=['Time','Measurement','Task']).fit())"
   ]
  },
  {
   "cell_type": "markdown",
   "metadata": {},
   "source": [
    "## Interpretation:\n",
    "We can conclude that performance is significantly influenced by different ttime conditons (p<0.05), in other words, we reject $H01$. We fail to reject all the others NullHypothesis"
   ]
  },
  {
   "cell_type": "markdown",
   "metadata": {},
   "source": [
    "## Assignment 4: Spatial coverage of Seahaven [Bonus]"
   ]
  },
  {
   "cell_type": "markdown",
   "metadata": {},
   "source": [
    "To get a better feeling of the spatial coverage of Seahaven, we can create an overview of the houses that the subjects have seen. With a colormap it is easy to display the spatial coverage in an intuitive way.\n",
    "\n",
    "- Open the image ```map5.png``` as ```SeahavenMap``` and read ```Clicks.csv``` into a dataframe ```NumClicks```.\n",
    "- Draw a solid circle for each house. Use the x- and y-coordinates of ```NumClicks``` for the positioning of the circles.\n",
    "- The column \"clicks\" from ```NumClicks``` displays how many subjects had visited the respective house. Use these click-values to calculate each circle's colour:\n",
    "\n",
    "$CircleColor = cmap((click[i]-min(clicks))/(max(clicks)-min(clicks)))$\n",
    "\n",
    "$clicks$: list/array of all click-values from the dataframe ```NumClicks``` <br>\n",
    "$click[i]$: a certain click-value from the dataframe ```NumClicks``` at position $i$"
   ]
  },
  {
   "cell_type": "code",
   "execution_count": null,
   "metadata": {},
   "outputs": [],
   "source": [
    "# open the files and extract the necessary data\n",
    "# TODO\n",
    "\n",
    "\n",
    "# set everything up to display the Seahaven Map\n",
    "fig = plt.figure(figsize=(15,15))\n",
    "SeahavenMap = SeahavenMap.resize((450,500))\n",
    "ax = plt.subplot2grid((10, 10), (0, 0), colspan=9,rowspan=10)\n",
    "plt.imshow(SeahavenMap, aspect = 'equal')\n",
    "\n",
    "# choose a colormap for the circles that display the houses\n",
    "cmap = plt.cm.get_cmap('Reds')\n",
    "\n",
    "# draw the circles and give them the right color (using the given colormap)\n",
    "# TODO\n",
    "\n",
    "\n",
    "# set everything up to display the Colormap / legend for the circle's colors\n",
    "a=np.outer(np.arange(0,1,0.01),np.ones(3))\n",
    "ax2 = plt.subplot2grid((10, 10), (0, 9),rowspan=10)\n",
    "plt.imshow(a,aspect='auto',cmap='Reds',origin=\"lower\")\n",
    "ax2.get_xaxis().set_ticks([])\n",
    "ax2.get_yaxis().set_ticks(np.linspace(0,99,10))\n",
    "ax2.get_yaxis().set_ticklabels(np.linspace((min(clicks)/64)*100,(max(clicks)/64)*100,10,dtype=int))\n",
    "ax2.yaxis.tick_right()\n",
    "ax2.set_ylabel(\"Percentage of Subjects That Have Seen This House\",rotation=270, fontsize=15, labelpad=20)\n",
    "ax2.yaxis.set_label_position(\"right\")\n",
    "plt.show()"
   ]
  }
 ],
 "metadata": {
  "kernelspec": {
   "display_name": "Python 3",
   "language": "python",
   "name": "python3"
  },
  "language_info": {
   "codemirror_mode": {
    "name": "ipython",
    "version": 3
   },
   "file_extension": ".py",
   "mimetype": "text/x-python",
   "name": "python",
   "nbconvert_exporter": "python",
   "pygments_lexer": "ipython3",
   "version": "3.6.7"
  }
 },
 "nbformat": 4,
 "nbformat_minor": 2
}
